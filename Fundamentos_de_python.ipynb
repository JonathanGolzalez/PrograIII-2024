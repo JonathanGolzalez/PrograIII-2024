{
  "nbformat": 4,
  "nbformat_minor": 0,
  "metadata": {
    "colab": {
      "provenance": [],
      "authorship_tag": "ABX9TyP9M4820x+ZxsDiqemYbyHz",
      "include_colab_link": true
    },
    "kernelspec": {
      "name": "python3",
      "display_name": "Python 3"
    },
    "language_info": {
      "name": "python"
    }
  },
  "cells": [
    {
      "cell_type": "markdown",
      "metadata": {
        "id": "view-in-github",
        "colab_type": "text"
      },
      "source": [
        "<a href=\"https://colab.research.google.com/github/JonathanGolzalez/PrograIII-2024/blob/main/Fundamentos_de_python.ipynb\" target=\"_parent\"><img src=\"https://colab.research.google.com/assets/colab-badge.svg\" alt=\"Open In Colab\"/></a>"
      ]
    },
    {
      "cell_type": "code",
      "execution_count": null,
      "metadata": {
        "colab": {
          "base_uri": "https://localhost:8080/"
        },
        "id": "dhyHYCun5R_X",
        "outputId": "c7460121-4f41-46e9-92ad-6a4b21200426"
      },
      "outputs": [
        {
          "output_type": "stream",
          "name": "stdout",
          "text": [
            "Hello word\n",
            "Hola  Jonathan Gonzalez , inicial:  J h\n"
          ]
        }
      ],
      "source": [
        "print(\"Hello word\")\n",
        "Nombre = \"Jonathan Gonzalez\"\n",
        "\n",
        "print(\"Hola \", Nombre, \", inicial: \", Nombre[0], Nombre[5])"
      ]
    },
    {
      "cell_type": "markdown",
      "source": [
        "EJERCICIO, crear un programa en python sume dos numeros\n"
      ],
      "metadata": {
        "id": "OpBIFo9_9hbb"
      }
    },
    {
      "cell_type": "code",
      "source": [
        "num1= 5\n",
        "num2= 9.5\n",
        "resp = num1 + num2\n",
        "print(\"La suma es: \", resp)"
      ],
      "metadata": {
        "colab": {
          "base_uri": "https://localhost:8080/"
        },
        "id": "yoRLKk609xsD",
        "outputId": "c4249659-8cc3-4e61-ed46-a7398750c930"
      },
      "execution_count": null,
      "outputs": [
        {
          "output_type": "stream",
          "name": "stdout",
          "text": [
            "La suma es:  14.5\n"
          ]
        }
      ]
    },
    {
      "cell_type": "markdown",
      "source": [
        "EJERCICIO, crear un programa en python sume dos numeros introducidos por el usuario\n"
      ],
      "metadata": {
        "id": "Mec4bGLp_RS-"
      }
    },
    {
      "cell_type": "code",
      "source": [
        "print(\"Ingrese el primer numero\")\n",
        "num1 = float(input())\n",
        "print(\"Ingrese el segundo numero\")\n",
        "num2 = float(input())\n",
        "resp = num1 + num2\n",
        "print(\"La suma es: \", resp)"
      ],
      "metadata": {
        "colab": {
          "base_uri": "https://localhost:8080/"
        },
        "id": "EKgjJ6ly_WWl",
        "outputId": "62c1c107-9790-4a69-c88b-8bb32ac94542"
      },
      "execution_count": null,
      "outputs": [
        {
          "output_type": "stream",
          "name": "stdout",
          "text": [
            "Ingrese el primer numero\n",
            "5\n",
            "Ingrese el segundo numero\n",
            "4.5\n",
            "La suma es:  9.5\n"
          ]
        }
      ]
    },
    {
      "cell_type": "code",
      "source": [
        "num1= 5\n",
        "num2= 9.5\n",
        "\n",
        "nombre = \"Jonathan Gonzalez\"\n",
        "print(nombre[5:len(nombre)])\n",
        "\n",
        "estado = True\n",
        "print(estado)\n",
        "\n",
        "print(type(nombre), type(estado), type(num1), type(num2))"
      ],
      "metadata": {
        "colab": {
          "base_uri": "https://localhost:8080/"
        },
        "id": "1saow1v-C-Q7",
        "outputId": "b647af6e-dcb8-4c03-b130-dce1d2ed1c6f"
      },
      "execution_count": null,
      "outputs": [
        {
          "output_type": "stream",
          "name": "stdout",
          "text": [
            "han Gonzalez\n",
            "True\n",
            "<class 'str'> <class 'bool'> <class 'int'> <class 'float'>\n"
          ]
        }
      ]
    },
    {
      "cell_type": "markdown",
      "source": [
        "EJERCICIO, cree un programa en python que lea un numero y determine si es par o impar\n"
      ],
      "metadata": {
        "id": "DnzeGtmdEsRE"
      }
    },
    {
      "cell_type": "code",
      "source": [
        "num = int(input(\"Ingrese un numero: \"))\n",
        "if num % 2 == 0:\n",
        "    print(\"El numero es par\")\n",
        "else:\n",
        "    print(\"El numero es impar\")"
      ],
      "metadata": {
        "colab": {
          "base_uri": "https://localhost:8080/"
        },
        "id": "4ydb-vrOE7q0",
        "outputId": "d7af7d0b-6c80-408d-e941-cc8e26572295"
      },
      "execution_count": null,
      "outputs": [
        {
          "output_type": "stream",
          "name": "stdout",
          "text": [
            "Ingrese un numero: 4\n",
            "El numero es par\n"
          ]
        }
      ]
    },
    {
      "cell_type": "markdown",
      "source": [
        "1.Convertir grados farenheil a celcius\n",
        "2.convertirgrados Farenheit y celsius a Kelvin"
      ],
      "metadata": {
        "id": "hJlwD_i69juq"
      }
    },
    {
      "cell_type": "code",
      "source": [
        "def convertir_cf(f):\n",
        "    return (f - 32) / 1.8"
      ],
      "metadata": {
        "id": "UNj5w_hKFSDG"
      },
      "execution_count": 3,
      "outputs": []
    },
    {
      "cell_type": "code",
      "source": [
        "f = float(input(\"Ingrese la temperatura en farenheit: \"))\n",
        "print(\"Celcius\", convertir_cf(f))"
      ],
      "metadata": {
        "id": "ZB6y7eLC-Upy",
        "outputId": "69ee4353-9a40-47bd-c878-06b9d907c19b",
        "colab": {
          "base_uri": "https://localhost:8080/"
        }
      },
      "execution_count": 4,
      "outputs": [
        {
          "output_type": "stream",
          "name": "stdout",
          "text": [
            "Ingrese la temperatura en farenheit: 80\n",
            "Celcius 26.666666666666664\n"
          ]
        }
      ]
    },
    {
      "cell_type": "markdown",
      "source": [
        "Farenheit y Celcius a Kelvin"
      ],
      "metadata": {
        "id": "swSmUZ9Y_VxY"
      }
    },
    {
      "cell_type": "code",
      "source": [
        "def convertir_fk(f):\n",
        "    return (f + 459.67) * 5/9\n",
        "\n",
        "def convertir_ck(c):\n",
        "    return c + 273.15\n",
        "\n",
        "def convertir_rk(r):\n",
        "    return r * 5/9\n",
        ""
      ],
      "metadata": {
        "id": "hP8oA9w7_kZQ"
      },
      "execution_count": 5,
      "outputs": []
    },
    {
      "cell_type": "code",
      "source": [
        "f = float(input(\"Ingrese la temperatura en farenheit: \"))\n",
        "print(\"Kelvin\", convertir_fk(f))\n",
        "\n",
        "c = float(input(\"Ingrese la temperatura en celcius: \"))\n",
        "print(\"Kelvin\", convertir_ck(c))\n",
        "\n",
        "r = float(input(\"Ingrese la temperatura en Rankine: \"))\n",
        "print(\"Kelvin\", convertir_rk(r))"
      ],
      "metadata": {
        "id": "bG8rXyBzANoB",
        "outputId": "5c82662a-0d6a-4e20-ec6f-79e191ffaa80",
        "colab": {
          "base_uri": "https://localhost:8080/"
        }
      },
      "execution_count": 6,
      "outputs": [
        {
          "output_type": "stream",
          "name": "stdout",
          "text": [
            "Ingrese la temperatura en farenheit: 12\n",
            "Kelvin 262.0388888888889\n",
            "Ingrese la temperatura en celcius: 12\n",
            "Kelvin 285.15\n",
            "Ingrese la temperatura en Rankine: 12\n",
            "Kelvin 6.666666666666667\n"
          ]
        }
      ]
    },
    {
      "cell_type": "markdown",
      "source": [
        "Ejercicio: elevar un numero al cuadrado"
      ],
      "metadata": {
        "id": "ch0BonhdAp1H"
      }
    },
    {
      "cell_type": "code",
      "source": [
        "def elevar_cuadrado(base=0,exponente=2):\n",
        "    return base ** exponente"
      ],
      "metadata": {
        "id": "gI0a86tGAwT2"
      },
      "execution_count": 11,
      "outputs": []
    },
    {
      "cell_type": "code",
      "source": [
        "num = int(input(\"Ingrese un numero: \"))\n",
        "print(\"El cuadrado es: \", elevar_cuadrado(num,3))"
      ],
      "metadata": {
        "id": "dB18Eu2kA-t2",
        "outputId": "98875069-9b57-4440-8d7b-8fc7d2eed2bb",
        "colab": {
          "base_uri": "https://localhost:8080/"
        }
      },
      "execution_count": 12,
      "outputs": [
        {
          "output_type": "stream",
          "name": "stdout",
          "text": [
            "Ingrese un numero: 3\n",
            "El cuadrado es:  27\n"
          ]
        }
      ]
    },
    {
      "cell_type": "markdown",
      "source": [
        "Ejercicio: usando funciones lambda"
      ],
      "metadata": {
        "id": "s7juygTOBdBG"
      }
    },
    {
      "cell_type": "code",
      "source": [
        "elevar_cuadrado_lambda = lambda base, exponente: base ** exponente"
      ],
      "metadata": {
        "id": "3WyqMT3uBLVH"
      },
      "execution_count": 15,
      "outputs": []
    },
    {
      "cell_type": "code",
      "source": [
        "valor = int (input(\"Ingrese un numero: \"))\n",
        "print(\"El cuadrado es: \", elevar_cuadrado_lambda(valor,2))"
      ],
      "metadata": {
        "id": "yyH-IvdiBn0f",
        "outputId": "7d7c5233-6f5f-49ff-bdd8-a71f8c97b988",
        "colab": {
          "base_uri": "https://localhost:8080/"
        }
      },
      "execution_count": 16,
      "outputs": [
        {
          "output_type": "stream",
          "name": "stdout",
          "text": [
            "Ingrese un numero: 3\n",
            "El cuadrado es:  9\n"
          ]
        }
      ]
    },
    {
      "cell_type": "markdown",
      "source": [],
      "metadata": {
        "id": "zbHgNhCxCkru"
      }
    },
    {
      "cell_type": "code",
      "source": [
        "serie = [5,4,3,2,6,7]\n",
        "resp = map(lambda x: x**2, serie)\n",
        "print(list(resp))\n",
        "\n",
        "resp2 = map(elevar_cuadrado, serie)\n",
        "print(list(resp2))"
      ],
      "metadata": {
        "id": "VNAd_oqrCJoe",
        "outputId": "e708a1d2-2ff3-47ba-eb72-7b1e4e51f7b9",
        "colab": {
          "base_uri": "https://localhost:8080/"
        }
      },
      "execution_count": 18,
      "outputs": [
        {
          "output_type": "stream",
          "name": "stdout",
          "text": [
            "[25, 16, 9, 4, 36, 49]\n",
            "[25, 16, 9, 4, 36, 49]\n"
          ]
        }
      ]
    },
    {
      "cell_type": "markdown",
      "source": [
        "Ejercicio: obtener la raiz cuadrada de una serie de numeros fijos"
      ],
      "metadata": {
        "id": "b7aAU15JDdeF"
      }
    },
    {
      "cell_type": "code",
      "source": [
        "serie = [5,4,3,2,6,7]\n",
        "resp = map(lambda x: x**0.5, serie)\n",
        "print(list(resp))"
      ],
      "metadata": {
        "id": "MTw1xp6uDoOt",
        "outputId": "82694b33-bd76-49ef-f94c-2287cfbdb0dc",
        "colab": {
          "base_uri": "https://localhost:8080/"
        }
      },
      "execution_count": 19,
      "outputs": [
        {
          "output_type": "stream",
          "name": "stdout",
          "text": [
            "[2.23606797749979, 2.0, 1.7320508075688772, 1.4142135623730951, 2.449489742783178, 2.6457513110645907]\n"
          ]
        }
      ]
    }
  ]
}