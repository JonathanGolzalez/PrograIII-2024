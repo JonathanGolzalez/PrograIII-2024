{
  "nbformat": 4,
  "nbformat_minor": 0,
  "metadata": {
    "colab": {
      "provenance": [],
      "authorship_tag": "ABX9TyM5zBTozexGCI+Euv42XT1C",
      "include_colab_link": true
    },
    "kernelspec": {
      "name": "python3",
      "display_name": "Python 3"
    },
    "language_info": {
      "name": "python"
    }
  },
  "cells": [
    {
      "cell_type": "markdown",
      "metadata": {
        "id": "view-in-github",
        "colab_type": "text"
      },
      "source": [
        "<a href=\"https://colab.research.google.com/github/JonathanGolzalez/PrograIII-2024/blob/main/Fundamentos_de_python.ipynb\" target=\"_parent\"><img src=\"https://colab.research.google.com/assets/colab-badge.svg\" alt=\"Open In Colab\"/></a>"
      ]
    },
    {
      "cell_type": "code",
      "execution_count": 2,
      "metadata": {
        "colab": {
          "base_uri": "https://localhost:8080/"
        },
        "id": "dhyHYCun5R_X",
        "outputId": "c7460121-4f41-46e9-92ad-6a4b21200426"
      },
      "outputs": [
        {
          "output_type": "stream",
          "name": "stdout",
          "text": [
            "Hello word\n",
            "Hola  Jonathan Gonzalez , inicial:  J h\n"
          ]
        }
      ],
      "source": [
        "print(\"Hello word\")\n",
        "Nombre = \"Jonathan Gonzalez\"\n",
        "\n",
        "print(\"Hola \", Nombre, \", inicial: \", Nombre[0], Nombre[5])"
      ]
    },
    {
      "cell_type": "markdown",
      "source": [
        "EJERCICIO, crear un programa en python sume dos numeros\n"
      ],
      "metadata": {
        "id": "OpBIFo9_9hbb"
      }
    },
    {
      "cell_type": "code",
      "source": [
        "num1= 5\n",
        "num2= 9.5\n",
        "resp = num1 + num2\n",
        "print(\"La suma es: \", resp)"
      ],
      "metadata": {
        "colab": {
          "base_uri": "https://localhost:8080/"
        },
        "id": "yoRLKk609xsD",
        "outputId": "c4249659-8cc3-4e61-ed46-a7398750c930"
      },
      "execution_count": 3,
      "outputs": [
        {
          "output_type": "stream",
          "name": "stdout",
          "text": [
            "La suma es:  14.5\n"
          ]
        }
      ]
    },
    {
      "cell_type": "markdown",
      "source": [
        "EJERCICIO, crear un programa en python sume dos numeros introducidos por el usuario\n"
      ],
      "metadata": {
        "id": "Mec4bGLp_RS-"
      }
    },
    {
      "cell_type": "code",
      "source": [
        "print(\"Ingrese el primer numero\")\n",
        "num1 = float(input())\n",
        "print(\"Ingrese el segundo numero\")\n",
        "num2 = float(input())\n",
        "resp = num1 + num2\n",
        "print(\"La suma es: \", resp)"
      ],
      "metadata": {
        "colab": {
          "base_uri": "https://localhost:8080/"
        },
        "id": "EKgjJ6ly_WWl",
        "outputId": "62c1c107-9790-4a69-c88b-8bb32ac94542"
      },
      "execution_count": 5,
      "outputs": [
        {
          "output_type": "stream",
          "name": "stdout",
          "text": [
            "Ingrese el primer numero\n",
            "5\n",
            "Ingrese el segundo numero\n",
            "4.5\n",
            "La suma es:  9.5\n"
          ]
        }
      ]
    },
    {
      "cell_type": "code",
      "source": [
        "num1= 5\n",
        "num2= 9.5\n",
        "\n",
        "nombre = \"Jonathan Gonzalez\"\n",
        "print(nombre[5:len(nombre)])\n",
        "\n",
        "estado = True\n",
        "print(estado)\n",
        "\n",
        "print(type(nombre), type(estado), type(num1), type(num2))"
      ],
      "metadata": {
        "colab": {
          "base_uri": "https://localhost:8080/"
        },
        "id": "1saow1v-C-Q7",
        "outputId": "b647af6e-dcb8-4c03-b130-dce1d2ed1c6f"
      },
      "execution_count": 6,
      "outputs": [
        {
          "output_type": "stream",
          "name": "stdout",
          "text": [
            "han Gonzalez\n",
            "True\n",
            "<class 'str'> <class 'bool'> <class 'int'> <class 'float'>\n"
          ]
        }
      ]
    },
    {
      "cell_type": "markdown",
      "source": [
        "EJERCICIO, cree un programa en python que lea un numero y determine si es par o impar\n"
      ],
      "metadata": {
        "id": "DnzeGtmdEsRE"
      }
    },
    {
      "cell_type": "code",
      "source": [
        "num = int(input(\"Ingrese un numero: \"))\n",
        "if num % 2 == 0:\n",
        "    print(\"El numero es par\")\n",
        "else:\n",
        "    print(\"El numero es impar\")"
      ],
      "metadata": {
        "colab": {
          "base_uri": "https://localhost:8080/"
        },
        "id": "4ydb-vrOE7q0",
        "outputId": "d7af7d0b-6c80-408d-e941-cc8e26572295"
      },
      "execution_count": 8,
      "outputs": [
        {
          "output_type": "stream",
          "name": "stdout",
          "text": [
            "Ingrese un numero: 4\n",
            "El numero es par\n"
          ]
        }
      ]
    },
    {
      "cell_type": "code",
      "source": [],
      "metadata": {
        "id": "UNj5w_hKFSDG"
      },
      "execution_count": null,
      "outputs": []
    }
  ]
}