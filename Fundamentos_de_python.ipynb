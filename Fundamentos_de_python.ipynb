{
  "nbformat": 4,
  "nbformat_minor": 0,
  "metadata": {
    "colab": {
      "provenance": [],
      "authorship_tag": "ABX9TyO1aZY4J2MH4w+xbTzVPYZJ",
      "include_colab_link": true
    },
    "kernelspec": {
      "name": "python3",
      "display_name": "Python 3"
    },
    "language_info": {
      "name": "python"
    }
  },
  "cells": [
    {
      "cell_type": "markdown",
      "metadata": {
        "id": "view-in-github",
        "colab_type": "text"
      },
      "source": [
        "<a href=\"https://colab.research.google.com/github/JonathanGolzalez/PrograIII-2024/blob/main/Fundamentos_de_python.ipynb\" target=\"_parent\"><img src=\"https://colab.research.google.com/assets/colab-badge.svg\" alt=\"Open In Colab\"/></a>"
      ]
    },
    {
      "cell_type": "code",
      "execution_count": null,
      "metadata": {
        "colab": {
          "base_uri": "https://localhost:8080/"
        },
        "id": "dhyHYCun5R_X",
        "outputId": "c7460121-4f41-46e9-92ad-6a4b21200426"
      },
      "outputs": [
        {
          "output_type": "stream",
          "name": "stdout",
          "text": [
            "Hello word\n",
            "Hola  Jonathan Gonzalez , inicial:  J h\n"
          ]
        }
      ],
      "source": [
        "print(\"Hello word\")\n",
        "Nombre = \"Jonathan Gonzalez\"\n",
        "\n",
        "print(\"Hola \", Nombre, \", inicial: \", Nombre[0], Nombre[5])"
      ]
    },
    {
      "cell_type": "code",
      "source": [
        "\n",
        "continuar = \"s\"\n",
        "while continuar == \"s\":\n",
        "\n",
        " etiquetas_area = [\n",
        "   \"1.\tPie Cuadrado\",\n",
        "\t \"2. Vara Cuadrada\",\n",
        "\t \"3.Yarda Cuadrada\",\n",
        "   \"4.\tMetro Cuadrado\",\n",
        "   \"5. Tareas\",\n",
        "   \"6. Manzana\",\n",
        "   \"7. Hectárea\"\n",
        " ]\n",
        "\n",
        " valores_area = {\n",
        "    1: 0.092903,             # pie\n",
        "    2: 0.6987,               # vara\n",
        "    3: 2.589988e+6,          # yarda\n",
        "    4: 1,                    # metro\n",
        "    5: 437.50,               # tareas\n",
        "    6: 6988.96,              # manzana\n",
        "    7: 1e+4                # Hectárea\n",
        " }\n",
        "\n",
        " def convertir_area(de, a, cantidad):\n",
        "    try:\n",
        "        valor_de = valores_area[de]\n",
        "        valor_a = valores_area[a]\n",
        "        return (valor_a / valor_de) * cantidad\n",
        "    except KeyError:\n",
        "        return \"Unidad no válida\"\n",
        "    except ZeroDivisionError:\n",
        "        return \"Error en la conversión\"\n",
        "\n",
        " print(\"*** MENÚ DE CONVERSIÓN DE ÁREA ***\")\n",
        " print(\"\\n\".join(etiquetas_area))\n",
        "\n",
        "# Solicitar al usuario la selección de unidades y la cantidad\n",
        " de = int(input(\"DE (Ingrese el número de la unidad de origen): \"))\n",
        " a = int(input(\"A (Ingrese el número de la unidad de destino): \"))\n",
        " cantidad = float(input(\"Cantidad a convertir: \"))\n",
        "\n",
        "# Realizar la conversión y mostrar el resultado\n",
        " resultado = convertir_area(de, a, cantidad)\n",
        " print(\"Resultado: \", resultado)\n",
        " continuar = input(\"Continuar s, sino cualquier tecla\")"
      ],
      "metadata": {
        "id": "42ZeSq8-KM5V",
        "outputId": "da3bc2b9-c388-4665-d32c-6f1fe5a59578",
        "colab": {
          "base_uri": "https://localhost:8080/",
          "height": 495
        }
      },
      "execution_count": 6,
      "outputs": [
        {
          "output_type": "stream",
          "name": "stdout",
          "text": [
            "*** MENÚ DE CONVERSIÓN DE ÁREA ***\n",
            "1.\tPie Cuadrado\n",
            "2. Vara Cuadrada\n",
            "3.Yarda Cuadrada\n",
            "4.\tMetro Cuadrado\n",
            "5. Tareas\n",
            "6. Manzana\n",
            "7. Hectárea\n"
          ]
        },
        {
          "output_type": "error",
          "ename": "KeyboardInterrupt",
          "evalue": "Interrupted by user",
          "traceback": [
            "\u001b[0;31m---------------------------------------------------------------------------\u001b[0m",
            "\u001b[0;31mKeyboardInterrupt\u001b[0m                         Traceback (most recent call last)",
            "\u001b[0;32m<ipython-input-6-d70cb05992cd>\u001b[0m in \u001b[0;36m<cell line: 2>\u001b[0;34m()\u001b[0m\n\u001b[1;32m     36\u001b[0m \u001b[0;34m\u001b[0m\u001b[0m\n\u001b[1;32m     37\u001b[0m \u001b[0;31m# Solicitar al usuario la selección de unidades y la cantidad\u001b[0m\u001b[0;34m\u001b[0m\u001b[0;34m\u001b[0m\u001b[0m\n\u001b[0;32m---> 38\u001b[0;31m  \u001b[0mde\u001b[0m \u001b[0;34m=\u001b[0m \u001b[0mint\u001b[0m\u001b[0;34m(\u001b[0m\u001b[0minput\u001b[0m\u001b[0;34m(\u001b[0m\u001b[0;34m\"DE (Ingrese el número de la unidad de origen): \"\u001b[0m\u001b[0;34m)\u001b[0m\u001b[0;34m)\u001b[0m\u001b[0;34m\u001b[0m\u001b[0;34m\u001b[0m\u001b[0m\n\u001b[0m\u001b[1;32m     39\u001b[0m  \u001b[0ma\u001b[0m \u001b[0;34m=\u001b[0m \u001b[0mint\u001b[0m\u001b[0;34m(\u001b[0m\u001b[0minput\u001b[0m\u001b[0;34m(\u001b[0m\u001b[0;34m\"A (Ingrese el número de la unidad de destino): \"\u001b[0m\u001b[0;34m)\u001b[0m\u001b[0;34m)\u001b[0m\u001b[0;34m\u001b[0m\u001b[0;34m\u001b[0m\u001b[0m\n\u001b[1;32m     40\u001b[0m  \u001b[0mcantidad\u001b[0m \u001b[0;34m=\u001b[0m \u001b[0mfloat\u001b[0m\u001b[0;34m(\u001b[0m\u001b[0minput\u001b[0m\u001b[0;34m(\u001b[0m\u001b[0;34m\"Cantidad a convertir: \"\u001b[0m\u001b[0;34m)\u001b[0m\u001b[0;34m)\u001b[0m\u001b[0;34m\u001b[0m\u001b[0;34m\u001b[0m\u001b[0m\n",
            "\u001b[0;32m/usr/local/lib/python3.10/dist-packages/ipykernel/kernelbase.py\u001b[0m in \u001b[0;36mraw_input\u001b[0;34m(self, prompt)\u001b[0m\n\u001b[1;32m    849\u001b[0m                 \u001b[0;34m\"raw_input was called, but this frontend does not support input requests.\"\u001b[0m\u001b[0;34m\u001b[0m\u001b[0;34m\u001b[0m\u001b[0m\n\u001b[1;32m    850\u001b[0m             )\n\u001b[0;32m--> 851\u001b[0;31m         return self._input_request(str(prompt),\n\u001b[0m\u001b[1;32m    852\u001b[0m             \u001b[0mself\u001b[0m\u001b[0;34m.\u001b[0m\u001b[0m_parent_ident\u001b[0m\u001b[0;34m,\u001b[0m\u001b[0;34m\u001b[0m\u001b[0;34m\u001b[0m\u001b[0m\n\u001b[1;32m    853\u001b[0m             \u001b[0mself\u001b[0m\u001b[0;34m.\u001b[0m\u001b[0m_parent_header\u001b[0m\u001b[0;34m,\u001b[0m\u001b[0;34m\u001b[0m\u001b[0;34m\u001b[0m\u001b[0m\n",
            "\u001b[0;32m/usr/local/lib/python3.10/dist-packages/ipykernel/kernelbase.py\u001b[0m in \u001b[0;36m_input_request\u001b[0;34m(self, prompt, ident, parent, password)\u001b[0m\n\u001b[1;32m    893\u001b[0m             \u001b[0;32mexcept\u001b[0m \u001b[0mKeyboardInterrupt\u001b[0m\u001b[0;34m:\u001b[0m\u001b[0;34m\u001b[0m\u001b[0;34m\u001b[0m\u001b[0m\n\u001b[1;32m    894\u001b[0m                 \u001b[0;31m# re-raise KeyboardInterrupt, to truncate traceback\u001b[0m\u001b[0;34m\u001b[0m\u001b[0;34m\u001b[0m\u001b[0m\n\u001b[0;32m--> 895\u001b[0;31m                 \u001b[0;32mraise\u001b[0m \u001b[0mKeyboardInterrupt\u001b[0m\u001b[0;34m(\u001b[0m\u001b[0;34m\"Interrupted by user\"\u001b[0m\u001b[0;34m)\u001b[0m \u001b[0;32mfrom\u001b[0m \u001b[0;32mNone\u001b[0m\u001b[0;34m\u001b[0m\u001b[0;34m\u001b[0m\u001b[0m\n\u001b[0m\u001b[1;32m    896\u001b[0m             \u001b[0;32mexcept\u001b[0m \u001b[0mException\u001b[0m \u001b[0;32mas\u001b[0m \u001b[0me\u001b[0m\u001b[0;34m:\u001b[0m\u001b[0;34m\u001b[0m\u001b[0;34m\u001b[0m\u001b[0m\n\u001b[1;32m    897\u001b[0m                 \u001b[0mself\u001b[0m\u001b[0;34m.\u001b[0m\u001b[0mlog\u001b[0m\u001b[0;34m.\u001b[0m\u001b[0mwarning\u001b[0m\u001b[0;34m(\u001b[0m\u001b[0;34m\"Invalid Message:\"\u001b[0m\u001b[0;34m,\u001b[0m \u001b[0mexc_info\u001b[0m\u001b[0;34m=\u001b[0m\u001b[0;32mTrue\u001b[0m\u001b[0;34m)\u001b[0m\u001b[0;34m\u001b[0m\u001b[0;34m\u001b[0m\u001b[0m\n",
            "\u001b[0;31mKeyboardInterrupt\u001b[0m: Interrupted by user"
          ]
        }
      ]
    },
    {
      "cell_type": "code",
      "source": [
        "continuar = \"s\"\n",
        "while continuar.lower() == \"s\":\n",
        "\n",
        "    # Definición de la base de datos de usuarios\n",
        "    usuarios = {\n",
        "        \"1234\": {\"nombre\": \"Juan Pérez\", \"saldo\": 1000},\n",
        "        \"5678\": {\"nombre\": \"Ana Gómez\", \"saldo\": 1500},\n",
        "        \"9101\": {\"nombre\": \"Carlos López\", \"saldo\": 2000}\n",
        "    }\n",
        "\n",
        "    def mostrar_menu():\n",
        "        print(\"\\n*** MENÚ DEL CAJERO AUTOMÁTICO ***\")\n",
        "        print(\"1. Consultar saldo\")\n",
        "        print(\"2. Retirar dinero\")\n",
        "        print(\"3. Depositar dinero\")\n",
        "        print(\"4. Salir\")\n",
        "\n",
        "    def consultar_saldo(usuario):\n",
        "        print(f\"Tu saldo actual es: ${usuarios[usuario]['saldo']}\")\n",
        "\n",
        "    def retirar_dinero(usuario):\n",
        "        monto = float(input(\"Ingrese el monto a retirar: $\"))\n",
        "        if monto <= usuarios[usuario]['saldo']:\n",
        "            usuarios[usuario]['saldo'] -= monto\n",
        "            print(f\"Retiraste ${monto}. Tu saldo actual es: ${usuarios[usuario]['saldo']}\")\n",
        "        else:\n",
        "            print(\"Saldo insuficiente\")\n",
        "\n",
        "    def depositar_dinero(usuario):\n",
        "        monto = float(input(\"Ingrese el monto a depositar: $\"))\n",
        "        usuarios[usuario]['saldo'] += monto\n",
        "        print(f\"Depositaste ${monto}. Tu saldo actual es: ${usuarios[usuario]['saldo']}\")\n",
        "\n",
        "    def iniciar_sesion():\n",
        "        intentos = 3\n",
        "        while intentos > 0:\n",
        "            pin = input(\"Ingrese su PIN: \")\n",
        "            if pin in usuarios:\n",
        "                return pin\n",
        "            else:\n",
        "                intentos -= 1\n",
        "                print(f\"PIN incorrecto. Te quedan {intentos} intentos.\")\n",
        "        print(\"Número máximo de intentos alcanzado. Inténtelo de nuevo más tarde.\")\n",
        "        return None\n",
        "\n",
        "    def cajero_automatico():\n",
        "        usuario = iniciar_sesion()\n",
        "        if usuario:\n",
        "            while True:\n",
        "                mostrar_menu()\n",
        "                opcion = input(\"Seleccione una opción: \")\n",
        "                if opcion == \"1\":\n",
        "                    consultar_saldo(usuario)\n",
        "                elif opcion == \"2\":\n",
        "                    retirar_dinero(usuario)\n",
        "                elif opcion == \"3\":\n",
        "                    depositar_dinero(usuario)\n",
        "                elif opcion == \"4\":\n",
        "                    print(\"Gracias por usar el cajero automático. ¡Hasta luego!\")\n",
        "                    break\n",
        "                else:\n",
        "                    print(\"Opción no válida. Por favor, seleccione una opción del menú.\")\n",
        "\n",
        "    # Ejecutar el cajero automático\n",
        "    cajero_automatico()\n",
        "\n",
        "    # Preguntar al usuario si desea continuar\n",
        "    continuar = input(\"¿Desea realizar otra operación? (s/n): \").strip().lower()\n",
        "\n",
        "print(\"Fin del programa.\")\n"
      ],
      "metadata": {
        "id": "HDihrKPYM9gk",
        "outputId": "0a67882d-6e61-4bbb-d113-9094992ca82e",
        "colab": {
          "base_uri": "https://localhost:8080/",
          "height": 617
        }
      },
      "execution_count": null,
      "outputs": [
        {
          "output_type": "stream",
          "name": "stdout",
          "text": [
            "Ingrese su PIN: 1234\n",
            "\n",
            "*** MENÚ DEL CAJERO AUTOMÁTICO ***\n",
            "1. Consultar saldo\n",
            "2. Retirar dinero\n",
            "3. Depositar dinero\n",
            "4. Salir\n",
            "Seleccione una opción: 1\n",
            "Tu saldo actual es: $1000\n",
            "\n",
            "*** MENÚ DEL CAJERO AUTOMÁTICO ***\n",
            "1. Consultar saldo\n",
            "2. Retirar dinero\n",
            "3. Depositar dinero\n",
            "4. Salir\n"
          ]
        },
        {
          "output_type": "error",
          "ename": "KeyboardInterrupt",
          "evalue": "Interrupted by user",
          "traceback": [
            "\u001b[0;31m---------------------------------------------------------------------------\u001b[0m",
            "\u001b[0;31mKeyboardInterrupt\u001b[0m                         Traceback (most recent call last)",
            "\u001b[0;32m<ipython-input-14-e3e266a0be1d>\u001b[0m in \u001b[0;36m<cell line: 2>\u001b[0;34m()\u001b[0m\n\u001b[1;32m     63\u001b[0m \u001b[0;34m\u001b[0m\u001b[0m\n\u001b[1;32m     64\u001b[0m     \u001b[0;31m# Ejecutar el cajero automático\u001b[0m\u001b[0;34m\u001b[0m\u001b[0;34m\u001b[0m\u001b[0m\n\u001b[0;32m---> 65\u001b[0;31m     \u001b[0mcajero_automatico\u001b[0m\u001b[0;34m(\u001b[0m\u001b[0;34m)\u001b[0m\u001b[0;34m\u001b[0m\u001b[0;34m\u001b[0m\u001b[0m\n\u001b[0m\u001b[1;32m     66\u001b[0m \u001b[0;34m\u001b[0m\u001b[0m\n\u001b[1;32m     67\u001b[0m     \u001b[0;31m# Preguntar al usuario si desea continuar\u001b[0m\u001b[0;34m\u001b[0m\u001b[0;34m\u001b[0m\u001b[0m\n",
            "\u001b[0;32m<ipython-input-14-e3e266a0be1d>\u001b[0m in \u001b[0;36mcajero_automatico\u001b[0;34m()\u001b[0m\n\u001b[1;32m     49\u001b[0m             \u001b[0;32mwhile\u001b[0m \u001b[0;32mTrue\u001b[0m\u001b[0;34m:\u001b[0m\u001b[0;34m\u001b[0m\u001b[0;34m\u001b[0m\u001b[0m\n\u001b[1;32m     50\u001b[0m                 \u001b[0mmostrar_menu\u001b[0m\u001b[0;34m(\u001b[0m\u001b[0;34m)\u001b[0m\u001b[0;34m\u001b[0m\u001b[0;34m\u001b[0m\u001b[0m\n\u001b[0;32m---> 51\u001b[0;31m                 \u001b[0mopcion\u001b[0m \u001b[0;34m=\u001b[0m \u001b[0minput\u001b[0m\u001b[0;34m(\u001b[0m\u001b[0;34m\"Seleccione una opción: \"\u001b[0m\u001b[0;34m)\u001b[0m\u001b[0;34m\u001b[0m\u001b[0;34m\u001b[0m\u001b[0m\n\u001b[0m\u001b[1;32m     52\u001b[0m                 \u001b[0;32mif\u001b[0m \u001b[0mopcion\u001b[0m \u001b[0;34m==\u001b[0m \u001b[0;34m\"1\"\u001b[0m\u001b[0;34m:\u001b[0m\u001b[0;34m\u001b[0m\u001b[0;34m\u001b[0m\u001b[0m\n\u001b[1;32m     53\u001b[0m                     \u001b[0mconsultar_saldo\u001b[0m\u001b[0;34m(\u001b[0m\u001b[0musuario\u001b[0m\u001b[0;34m)\u001b[0m\u001b[0;34m\u001b[0m\u001b[0;34m\u001b[0m\u001b[0m\n",
            "\u001b[0;32m/usr/local/lib/python3.10/dist-packages/ipykernel/kernelbase.py\u001b[0m in \u001b[0;36mraw_input\u001b[0;34m(self, prompt)\u001b[0m\n\u001b[1;32m    849\u001b[0m                 \u001b[0;34m\"raw_input was called, but this frontend does not support input requests.\"\u001b[0m\u001b[0;34m\u001b[0m\u001b[0;34m\u001b[0m\u001b[0m\n\u001b[1;32m    850\u001b[0m             )\n\u001b[0;32m--> 851\u001b[0;31m         return self._input_request(str(prompt),\n\u001b[0m\u001b[1;32m    852\u001b[0m             \u001b[0mself\u001b[0m\u001b[0;34m.\u001b[0m\u001b[0m_parent_ident\u001b[0m\u001b[0;34m,\u001b[0m\u001b[0;34m\u001b[0m\u001b[0;34m\u001b[0m\u001b[0m\n\u001b[1;32m    853\u001b[0m             \u001b[0mself\u001b[0m\u001b[0;34m.\u001b[0m\u001b[0m_parent_header\u001b[0m\u001b[0;34m,\u001b[0m\u001b[0;34m\u001b[0m\u001b[0;34m\u001b[0m\u001b[0m\n",
            "\u001b[0;32m/usr/local/lib/python3.10/dist-packages/ipykernel/kernelbase.py\u001b[0m in \u001b[0;36m_input_request\u001b[0;34m(self, prompt, ident, parent, password)\u001b[0m\n\u001b[1;32m    893\u001b[0m             \u001b[0;32mexcept\u001b[0m \u001b[0mKeyboardInterrupt\u001b[0m\u001b[0;34m:\u001b[0m\u001b[0;34m\u001b[0m\u001b[0;34m\u001b[0m\u001b[0m\n\u001b[1;32m    894\u001b[0m                 \u001b[0;31m# re-raise KeyboardInterrupt, to truncate traceback\u001b[0m\u001b[0;34m\u001b[0m\u001b[0;34m\u001b[0m\u001b[0m\n\u001b[0;32m--> 895\u001b[0;31m                 \u001b[0;32mraise\u001b[0m \u001b[0mKeyboardInterrupt\u001b[0m\u001b[0;34m(\u001b[0m\u001b[0;34m\"Interrupted by user\"\u001b[0m\u001b[0;34m)\u001b[0m \u001b[0;32mfrom\u001b[0m \u001b[0;32mNone\u001b[0m\u001b[0;34m\u001b[0m\u001b[0;34m\u001b[0m\u001b[0m\n\u001b[0m\u001b[1;32m    896\u001b[0m             \u001b[0;32mexcept\u001b[0m \u001b[0mException\u001b[0m \u001b[0;32mas\u001b[0m \u001b[0me\u001b[0m\u001b[0;34m:\u001b[0m\u001b[0;34m\u001b[0m\u001b[0;34m\u001b[0m\u001b[0m\n\u001b[1;32m    897\u001b[0m                 \u001b[0mself\u001b[0m\u001b[0;34m.\u001b[0m\u001b[0mlog\u001b[0m\u001b[0;34m.\u001b[0m\u001b[0mwarning\u001b[0m\u001b[0;34m(\u001b[0m\u001b[0;34m\"Invalid Message:\"\u001b[0m\u001b[0;34m,\u001b[0m \u001b[0mexc_info\u001b[0m\u001b[0;34m=\u001b[0m\u001b[0;32mTrue\u001b[0m\u001b[0;34m)\u001b[0m\u001b[0;34m\u001b[0m\u001b[0;34m\u001b[0m\u001b[0m\n",
            "\u001b[0;31mKeyboardInterrupt\u001b[0m: Interrupted by user"
          ]
        }
      ]
    },
    {
      "cell_type": "markdown",
      "source": [
        "EJERCICIO, crear un programa en python sume dos numeros\n"
      ],
      "metadata": {
        "id": "OpBIFo9_9hbb"
      }
    },
    {
      "cell_type": "code",
      "source": [
        "num1= 5\n",
        "num2= 9.5\n",
        "resp = num1 + num2\n",
        "print(\"La suma es: \", resp)"
      ],
      "metadata": {
        "colab": {
          "base_uri": "https://localhost:8080/"
        },
        "id": "yoRLKk609xsD",
        "outputId": "c4249659-8cc3-4e61-ed46-a7398750c930"
      },
      "execution_count": null,
      "outputs": [
        {
          "output_type": "stream",
          "name": "stdout",
          "text": [
            "La suma es:  14.5\n"
          ]
        }
      ]
    },
    {
      "cell_type": "markdown",
      "source": [
        "EJERCICIO, crear un programa en python sume dos numeros introducidos por el usuario\n"
      ],
      "metadata": {
        "id": "Mec4bGLp_RS-"
      }
    },
    {
      "cell_type": "code",
      "source": [
        "print(\"Ingrese el primer numero\")\n",
        "num1 = float(input())\n",
        "print(\"Ingrese el segundo numero\")\n",
        "num2 = float(input())\n",
        "resp = num1 + num2\n",
        "print(\"La suma es: \", resp)"
      ],
      "metadata": {
        "colab": {
          "base_uri": "https://localhost:8080/"
        },
        "id": "EKgjJ6ly_WWl",
        "outputId": "62c1c107-9790-4a69-c88b-8bb32ac94542"
      },
      "execution_count": null,
      "outputs": [
        {
          "output_type": "stream",
          "name": "stdout",
          "text": [
            "Ingrese el primer numero\n",
            "5\n",
            "Ingrese el segundo numero\n",
            "4.5\n",
            "La suma es:  9.5\n"
          ]
        }
      ]
    },
    {
      "cell_type": "code",
      "source": [
        "num1= 5\n",
        "num2= 9.5\n",
        "\n",
        "nombre = \"Jonathan Gonzalez\"\n",
        "print(nombre[5:len(nombre)])\n",
        "\n",
        "estado = True\n",
        "print(estado)\n",
        "\n",
        "print(type(nombre), type(estado), type(num1), type(num2))"
      ],
      "metadata": {
        "colab": {
          "base_uri": "https://localhost:8080/"
        },
        "id": "1saow1v-C-Q7",
        "outputId": "b647af6e-dcb8-4c03-b130-dce1d2ed1c6f"
      },
      "execution_count": null,
      "outputs": [
        {
          "output_type": "stream",
          "name": "stdout",
          "text": [
            "han Gonzalez\n",
            "True\n",
            "<class 'str'> <class 'bool'> <class 'int'> <class 'float'>\n"
          ]
        }
      ]
    },
    {
      "cell_type": "markdown",
      "source": [
        "EJERCICIO, cree un programa en python que lea un numero y determine si es par o impar\n"
      ],
      "metadata": {
        "id": "DnzeGtmdEsRE"
      }
    },
    {
      "cell_type": "code",
      "source": [
        "num = int(input(\"Ingrese un numero: \"))\n",
        "if num % 2 == 0:\n",
        "    print(\"El numero es par\")\n",
        "else:\n",
        "    print(\"El numero es impar\")"
      ],
      "metadata": {
        "colab": {
          "base_uri": "https://localhost:8080/"
        },
        "id": "4ydb-vrOE7q0",
        "outputId": "d7af7d0b-6c80-408d-e941-cc8e26572295"
      },
      "execution_count": null,
      "outputs": [
        {
          "output_type": "stream",
          "name": "stdout",
          "text": [
            "Ingrese un numero: 4\n",
            "El numero es par\n"
          ]
        }
      ]
    },
    {
      "cell_type": "markdown",
      "source": [
        "1.Convertir grados farenheil a celcius\n",
        "2.convertirgrados Farenheit y celsius a Kelvin"
      ],
      "metadata": {
        "id": "hJlwD_i69juq"
      }
    },
    {
      "cell_type": "code",
      "source": [
        "def convertir_cf(f):\n",
        "    return (f - 32) / 1.8"
      ],
      "metadata": {
        "id": "UNj5w_hKFSDG"
      },
      "execution_count": null,
      "outputs": []
    },
    {
      "cell_type": "code",
      "source": [
        "f = float(input(\"Ingrese la temperatura en farenheit: \"))\n",
        "print(\"Celcius\", convertir_cf(f))"
      ],
      "metadata": {
        "id": "ZB6y7eLC-Upy",
        "outputId": "69ee4353-9a40-47bd-c878-06b9d907c19b",
        "colab": {
          "base_uri": "https://localhost:8080/"
        }
      },
      "execution_count": null,
      "outputs": [
        {
          "output_type": "stream",
          "name": "stdout",
          "text": [
            "Ingrese la temperatura en farenheit: 80\n",
            "Celcius 26.666666666666664\n"
          ]
        }
      ]
    },
    {
      "cell_type": "markdown",
      "source": [
        "Farenheit y Celcius a Kelvin"
      ],
      "metadata": {
        "id": "swSmUZ9Y_VxY"
      }
    },
    {
      "cell_type": "code",
      "source": [
        "def convertir_fk(f):\n",
        "    return (f + 459.67) * 5/9\n",
        "\n",
        "def convertir_ck(c):\n",
        "    return c + 273.15\n",
        "\n",
        "def convertir_rk(r):\n",
        "    return r * 5/9\n"
      ],
      "metadata": {
        "id": "hP8oA9w7_kZQ"
      },
      "execution_count": null,
      "outputs": []
    },
    {
      "cell_type": "code",
      "source": [
        "f = float(input(\"Ingrese la temperatura en farenheit: \"))\n",
        "print(\"Kelvin\", convertir_fk(f))\n",
        "\n",
        "c = float(input(\"Ingrese la temperatura en celcius: \"))\n",
        "print(\"Kelvin\", convertir_ck(c))\n",
        "\n",
        "r = float(input(\"Ingrese la temperatura en Rankine: \"))\n",
        "print(\"Kelvin\", convertir_rk(r))"
      ],
      "metadata": {
        "id": "bG8rXyBzANoB",
        "outputId": "5c82662a-0d6a-4e20-ec6f-79e191ffaa80",
        "colab": {
          "base_uri": "https://localhost:8080/"
        }
      },
      "execution_count": null,
      "outputs": [
        {
          "output_type": "stream",
          "name": "stdout",
          "text": [
            "Ingrese la temperatura en farenheit: 12\n",
            "Kelvin 262.0388888888889\n",
            "Ingrese la temperatura en celcius: 12\n",
            "Kelvin 285.15\n",
            "Ingrese la temperatura en Rankine: 12\n",
            "Kelvin 6.666666666666667\n"
          ]
        }
      ]
    },
    {
      "cell_type": "markdown",
      "source": [
        "Ejercicio: elevar un numero al cuadrado"
      ],
      "metadata": {
        "id": "ch0BonhdAp1H"
      }
    },
    {
      "cell_type": "code",
      "source": [
        "def elevar_cuadrado(base=0,exponente=2):\n",
        "    return base ** exponente"
      ],
      "metadata": {
        "id": "gI0a86tGAwT2"
      },
      "execution_count": null,
      "outputs": []
    },
    {
      "cell_type": "code",
      "source": [
        "num = int(input(\"Ingrese un numero: \"))\n",
        "print(\"El cuadrado es: \", elevar_cuadrado(num,3))"
      ],
      "metadata": {
        "id": "dB18Eu2kA-t2",
        "outputId": "98875069-9b57-4440-8d7b-8fc7d2eed2bb",
        "colab": {
          "base_uri": "https://localhost:8080/"
        }
      },
      "execution_count": null,
      "outputs": [
        {
          "output_type": "stream",
          "name": "stdout",
          "text": [
            "Ingrese un numero: 3\n",
            "El cuadrado es:  27\n"
          ]
        }
      ]
    },
    {
      "cell_type": "markdown",
      "source": [
        "Ejercicio: usando funciones lambda"
      ],
      "metadata": {
        "id": "s7juygTOBdBG"
      }
    },
    {
      "cell_type": "code",
      "source": [
        "elevar_cuadrado_lambda = lambda base, exponente: base ** exponente"
      ],
      "metadata": {
        "id": "3WyqMT3uBLVH"
      },
      "execution_count": null,
      "outputs": []
    },
    {
      "cell_type": "code",
      "source": [
        "valor = int (input(\"Ingrese un numero: \"))\n",
        "print(\"El cuadrado es: \", elevar_cuadrado_lambda(valor,2))"
      ],
      "metadata": {
        "id": "yyH-IvdiBn0f",
        "outputId": "7d7c5233-6f5f-49ff-bdd8-a71f8c97b988",
        "colab": {
          "base_uri": "https://localhost:8080/"
        }
      },
      "execution_count": null,
      "outputs": [
        {
          "output_type": "stream",
          "name": "stdout",
          "text": [
            "Ingrese un numero: 3\n",
            "El cuadrado es:  9\n"
          ]
        }
      ]
    },
    {
      "cell_type": "markdown",
      "source": [],
      "metadata": {
        "id": "zbHgNhCxCkru"
      }
    },
    {
      "cell_type": "code",
      "source": [
        "serie = [5,4,3,2,6,7]\n",
        "resp = map(lambda x: x**2, serie)\n",
        "print(list(resp))\n",
        "\n",
        "resp2 = map(elevar_cuadrado, serie)\n",
        "print(list(resp2))"
      ],
      "metadata": {
        "id": "VNAd_oqrCJoe",
        "outputId": "e708a1d2-2ff3-47ba-eb72-7b1e4e51f7b9",
        "colab": {
          "base_uri": "https://localhost:8080/"
        }
      },
      "execution_count": null,
      "outputs": [
        {
          "output_type": "stream",
          "name": "stdout",
          "text": [
            "[25, 16, 9, 4, 36, 49]\n",
            "[25, 16, 9, 4, 36, 49]\n"
          ]
        }
      ]
    },
    {
      "cell_type": "markdown",
      "source": [
        "Ejercicio: obtener la raiz cuadrada de una serie de numeros fijos"
      ],
      "metadata": {
        "id": "b7aAU15JDdeF"
      }
    },
    {
      "cell_type": "code",
      "source": [
        "serie = [5,4,3,2,6,7]\n",
        "resp = map(lambda x: x**0.5, serie)\n",
        "print(list(resp))"
      ],
      "metadata": {
        "id": "MTw1xp6uDoOt",
        "outputId": "82694b33-bd76-49ef-f94c-2287cfbdb0dc",
        "colab": {
          "base_uri": "https://localhost:8080/"
        }
      },
      "execution_count": null,
      "outputs": [
        {
          "output_type": "stream",
          "name": "stdout",
          "text": [
            "[2.23606797749979, 2.0, 1.7320508075688772, 1.4142135623730951, 2.449489742783178, 2.6457513110645907]\n"
          ]
        }
      ]
    },
    {
      "cell_type": "markdown",
      "source": [
        "ESTRUCTURAS DE CONTROL"
      ],
      "metadata": {
        "id": "u3tNAemiFr-P"
      }
    },
    {
      "cell_type": "markdown",
      "source": [
        "IF"
      ],
      "metadata": {
        "id": "BlXl1oyqFzhy"
      }
    },
    {
      "cell_type": "markdown",
      "source": [
        "EJERCICIO: SOLICITAR AL USUARIO SU EDAD Y DETERMINR SU CLASIFICACION"
      ],
      "metadata": {
        "id": "14lcwTvdF538"
      }
    },
    {
      "cell_type": "code",
      "source": [
        "continuar = \"s\"\n",
        "while continuar == \"s\":\n",
        " Edad = int(input(\"Ingrese su edad: \"))\n",
        " if Edad < 0:\n",
        "  print(\"Estas en el lobby\")\n",
        " elif Edad < 2:\n",
        "    print(\"Eres un bebe\")\n",
        " elif Edad <= 10:\n",
        "    print(\"Eres un niño\")\n",
        " elif Edad <= 18:\n",
        "    print(\"Eres un adolecente\")\n",
        " elif Edad < 29:\n",
        "    print(\"Eres un Joven\")\n",
        " elif Edad < 39:\n",
        "    print(\"Eres un Adulto\")\n",
        " elif Edad < 59:\n",
        "    print(\"Eres un viejo\")\n",
        " else:\n",
        "    print(\"estas muerto\")\n",
        " continuar = input(\"Continuar s, sino cualquier tecla\")"
      ],
      "metadata": {
        "id": "N-xj5S9NFwZz",
        "outputId": "dbf2641f-4467-41e4-f625-a5bfa30a0613",
        "colab": {
          "base_uri": "https://localhost:8080/"
        }
      },
      "execution_count": null,
      "outputs": [
        {
          "name": "stdout",
          "output_type": "stream",
          "text": [
            "Ingrese su edad: -2\n",
            "Estas en el lobby\n",
            "Continuar s, sino cualquier teclas\n",
            "Ingrese su edad: 34\n",
            "Eres un Adulto\n",
            "Continuar s, sino cualquier teclab\n"
          ]
        }
      ]
    },
    {
      "cell_type": "markdown",
      "source": [
        "EJERCICIO: QUE EL USUARIO INGRESE UN NUMERO E IDENTIFICAR SI ES POSITIVO O NOGATIVO"
      ],
      "metadata": {
        "id": "5EiqDSiWKQ7M"
      }
    },
    {
      "cell_type": "code",
      "source": [
        "  num = int(input(\"Ingrese un numero: \"))\n",
        "  if (num < 0):\n",
        "    print(\"El numero es negativo\")\n",
        "  elif num == 0:\n",
        "    print(\"El numero es neutro\")\n",
        "  else:\n",
        "    print(\"El numero es positivo\")"
      ],
      "metadata": {
        "id": "lDU2Nj7lKcid",
        "outputId": "6a3ed84c-41fb-4c0e-e691-e862cbde81c3",
        "colab": {
          "base_uri": "https://localhost:8080/"
        }
      },
      "execution_count": null,
      "outputs": [
        {
          "output_type": "stream",
          "name": "stdout",
          "text": [
            "Ingrese un numero: 0\n",
            "Eres br\n"
          ]
        }
      ]
    },
    {
      "cell_type": "markdown",
      "source": [
        "SOLICITAR UNA TABLA DE MULTIPLICAR Y GENERARLA"
      ],
      "metadata": {
        "id": "Xxi-ftQ1ORY6"
      }
    },
    {
      "cell_type": "code",
      "source": [
        "continuar = \"s\"\n",
        "while continuar == \"s\":\n",
        "  tabla = int(input(\"Tabla: \"))\n",
        "  for i in range(1,11):\n",
        "    print(tabla, \"x\", i, \"=\", tabla*i)\n",
        "  continuar = input(\"Continuar s, sino cualquier tecla\")"
      ],
      "metadata": {
        "id": "7xE7hrc_OXdw",
        "outputId": "c8c507f4-0f16-4bbe-a8d3-c73e3370b82a",
        "colab": {
          "base_uri": "https://localhost:8080/"
        }
      },
      "execution_count": null,
      "outputs": [
        {
          "name": "stdout",
          "output_type": "stream",
          "text": [
            "Tabla: 7\n",
            "7 x 1 = 7\n",
            "7 x 2 = 14\n",
            "7 x 3 = 21\n",
            "7 x 4 = 28\n",
            "7 x 5 = 35\n",
            "7 x 6 = 42\n",
            "7 x 7 = 49\n",
            "7 x 8 = 56\n",
            "7 x 9 = 63\n",
            "7 x 10 = 70\n",
            "Continuar s, sino cualquier teclas\n",
            "Tabla: 16\n",
            "16 x 1 = 16\n",
            "16 x 2 = 32\n",
            "16 x 3 = 48\n",
            "16 x 4 = 64\n",
            "16 x 5 = 80\n",
            "16 x 6 = 96\n",
            "16 x 7 = 112\n",
            "16 x 8 = 128\n",
            "16 x 9 = 144\n",
            "16 x 10 = 160\n",
            "Continuar s, sino cualquier teclan\n"
          ]
        }
      ]
    },
    {
      "cell_type": "markdown",
      "source": [
        "Calcular el valor a pagar según el número de metros consumidos de agua potable\n"
      ],
      "metadata": {
        "id": "rsf7NumBJN0T"
      }
    },
    {
      "cell_type": "code",
      "source": [
        "def calcular_costo_total(metros_cubicos):\n",
        "\n",
        "    cuota_fija = 6.00\n",
        "    tarifa_exceso_18 = 0.45\n",
        "    tarifa_exceso_28 = 0.65\n",
        "\n",
        "    if metros_cubicos <= 18:\n",
        "        costo_total = cuota_fija\n",
        "\n",
        "    elif metros_cubicos <= 28:\n",
        "        exceso_18 = metros_cubicos - 18\n",
        "        costo_total = cuota_fija + (exceso_18 * tarifa_exceso_18)\n",
        "\n",
        "    else:\n",
        "        exceso_28 = metros_cubicos - 28\n",
        "        exceso_19_a_28 = 28 - 18\n",
        "        costo_total = cuota_fija + (exceso_19_a_28 * tarifa_exceso_18) + (exceso_28 * tarifa_exceso_28)\n",
        "\n",
        "    return costo_total\n",
        "\n",
        "\n",
        "def obtener_metros_cubicos():\n",
        "    while True:\n",
        "        try:\n",
        "            metros_cubicos = float(input(\"Ingrese la cantidad de metros cúbicos de agua consumidos: \"))\n",
        "            if metros_cubicos < 0:\n",
        "                print(\"Por favor, ingrese un número positivo.\")\n",
        "            else:\n",
        "                return metros_cubicos\n",
        "        except ValueError:\n",
        "            print(\"Entrada inválida. Por favor, ingrese un número válido.\")\n",
        "\n",
        "\n",
        "continuar = \"s\"\n",
        "while continuar == \"s\":\n",
        "\n",
        "    metros_cubicos_consumidos = obtener_metros_cubicos()\n",
        "\n",
        "    costo_total = calcular_costo_total(metros_cubicos_consumidos)\n",
        "    print(f\"El costo total a pagar por {metros_cubicos_consumidos} m³ de agua es ${costo_total:.2f}\")\n",
        "\n",
        "    continuar = input(\"Continuar s, sino cualquier tecla\")"
      ],
      "metadata": {
        "id": "l_1CMBQqJQ_Y",
        "outputId": "940b6c4b-d5ac-4ef4-9501-d8d687c9bb3d",
        "colab": {
          "base_uri": "https://localhost:8080/"
        }
      },
      "execution_count": null,
      "outputs": [
        {
          "name": "stdout",
          "output_type": "stream",
          "text": [
            "Ingrese la cantidad de metros cúbicos de agua consumidos: 9\n",
            "El costo total a pagar por 9.0 m³ de agua es $6.00\n",
            "Continuar s, sino cualquier tecla\n"
          ]
        }
      ]
    },
    {
      "cell_type": "code",
      "source": [
        "\n",
        "continuar = \"s\"\n",
        "while continuar == \"s\":\n",
        "\n",
        " etiquetas_area = [\n",
        "   \"1. Pie Cuadrado\",\n",
        "\t \"2. Vara Cuadrada\",\n",
        "\t \"3. Yarda Cuadrada\",\n",
        "   \"4. Metro Cuadrado\",\n",
        "   \"5. Tareas\",\n",
        "   \"6. Manzana\",\n",
        "   \"7. Hectárea\"\n",
        " ]\n",
        "\n",
        " valores_area = {\n",
        "    1: 0.092903,             # pie\n",
        "    2: 0.6987,               # vara\n",
        "    3: 2.589988e+6,          # yarda\n",
        "    4: 1,                    # metro\n",
        "    5: 437.50,               # tareas\n",
        "    6: 0.698896,              # manzana\n",
        "    7: 1e+4                 # Hectárea\n",
        " }\n",
        "\n",
        " def convertir_area(de, a, cantidad):\n",
        "    try:\n",
        "        valor_de = valores_area[de]\n",
        "        valor_a = valores_area[a]\n",
        "        return (valor_a / valor_de) * cantidad\n",
        "    except KeyError:\n",
        "        return \"Unidad no válida\"\n",
        "    except ZeroDivisionError:\n",
        "        return \"Error en la conversión\"\n",
        "\n",
        " print(\"*** MENÚ DE CONVERSIÓN DE ÁREA ***\")\n",
        " print(\"\\n\".join(etiquetas_area))\n",
        "\n",
        "\n",
        " de = int(input(\"DE (Ingrese el número de la unidad de origen): \"))\n",
        " a = int(input(\"A (Ingrese el número de la unidad de destino): \"))\n",
        " cantidad = float(input(\"Cantidad a convertir: \"))\n",
        "\n",
        "\n",
        " resultado = convertir_area(de, a, cantidad)\n",
        " print(\"Resultado: \", resultado)\n",
        " continuar = input(\"Continuar s, sino cualquier tecla\")"
      ],
      "metadata": {
        "id": "HNWKUDKkWBjZ",
        "outputId": "75fcf42e-f8bd-4ec4-a220-9683db2700c2",
        "colab": {
          "base_uri": "https://localhost:8080/"
        }
      },
      "execution_count": null,
      "outputs": [
        {
          "metadata": {
            "tags": null
          },
          "name": "stdout",
          "output_type": "stream",
          "text": [
            "*** MENÚ DE CONVERSIÓN DE ÁREA ***\n",
            "1. Pie Cuadrado\n",
            "2. Vara Cuadrada\n",
            "3. Yarda Cuadrada\n",
            "4. Metro Cuadrado\n",
            "5. Tareas\n",
            "6. Manzana\n",
            "7. Hectárea\n",
            "Resultado:  10000.0\n"
          ]
        }
      ]
    },
    {
      "cell_type": "code",
      "source": [
        "def calcular_billetes_y_monedas(monto):\n",
        "    # Definir las denominaciones de billetes y monedas disponibles\n",
        "    denominaciones = [\n",
        "        20, 10, 5, 1, 0.25, 0.10, 0.01\n",
        "    ]\n",
        "\n",
        "    # Diccionario para almacenar la cantidad de cada denominación\n",
        "    resultado = {}\n",
        "\n",
        "    # Iterar sobre cada denominación para calcular cuántos billetes o monedas se necesitan\n",
        "    for denominacion in denominaciones:\n",
        "        if monto >= denominacion:\n",
        "            cantidad = int(monto // denominacion)  # Número de billetes o monedas\n",
        "            resultado[denominacion] = cantidad\n",
        "            monto = round(monto - (cantidad * denominacion), 2)  # Actualizar el monto restante\n",
        "\n",
        "    return resultado\n",
        "\n",
        "# Pedir al usuario que ingrese la cantidad a retirar\n",
        "try:\n",
        "    monto = float(input(\"Ingrese la cantidad a retirar: \"))\n",
        "\n",
        "    if monto <= 0:\n",
        "        print(\"Por favor, ingrese un monto mayor a 0.\")\n",
        "    else:\n",
        "        resultado = calcular_billetes_y_monedas(monto)\n",
        "        # Mostrar el resultado\n",
        "        for denominacion, cantidad in resultado.items():\n",
        "            if denominacion >= 1:\n",
        "                print(f\"{cantidad} billete(s) de ${denominacion:.2f}\")\n",
        "            else:\n",
        "                print(f\"{cantidad} moneda(s) de ${denominacion:.2f}\")\n",
        "except ValueError:\n",
        "    print(\"Por favor, ingrese un valor numérico válido.\")"
      ],
      "metadata": {
        "id": "M2Tw2zNIXRpz",
        "outputId": "77892d1e-15ae-4c55-eba5-dfb2ed557699",
        "colab": {
          "base_uri": "https://localhost:8080/",
          "height": 356
        }
      },
      "execution_count": 15,
      "outputs": [
        {
          "output_type": "error",
          "ename": "KeyboardInterrupt",
          "evalue": "Interrupted by user",
          "traceback": [
            "\u001b[0;31m---------------------------------------------------------------------------\u001b[0m",
            "\u001b[0;31mKeyboardInterrupt\u001b[0m                         Traceback (most recent call last)",
            "\u001b[0;32m<ipython-input-15-73675626d5ea>\u001b[0m in \u001b[0;36m<cell line: 20>\u001b[0;34m()\u001b[0m\n\u001b[1;32m     19\u001b[0m \u001b[0;31m# Pedir al usuario que ingrese la cantidad a retirar\u001b[0m\u001b[0;34m\u001b[0m\u001b[0;34m\u001b[0m\u001b[0m\n\u001b[1;32m     20\u001b[0m \u001b[0;32mtry\u001b[0m\u001b[0;34m:\u001b[0m\u001b[0;34m\u001b[0m\u001b[0;34m\u001b[0m\u001b[0m\n\u001b[0;32m---> 21\u001b[0;31m     \u001b[0mmonto\u001b[0m \u001b[0;34m=\u001b[0m \u001b[0mfloat\u001b[0m\u001b[0;34m(\u001b[0m\u001b[0minput\u001b[0m\u001b[0;34m(\u001b[0m\u001b[0;34m\"Ingrese la cantidad a retirar: \"\u001b[0m\u001b[0;34m)\u001b[0m\u001b[0;34m)\u001b[0m\u001b[0;34m\u001b[0m\u001b[0;34m\u001b[0m\u001b[0m\n\u001b[0m\u001b[1;32m     22\u001b[0m \u001b[0;34m\u001b[0m\u001b[0m\n\u001b[1;32m     23\u001b[0m     \u001b[0;32mif\u001b[0m \u001b[0mmonto\u001b[0m \u001b[0;34m<=\u001b[0m \u001b[0;36m0\u001b[0m\u001b[0;34m:\u001b[0m\u001b[0;34m\u001b[0m\u001b[0;34m\u001b[0m\u001b[0m\n",
            "\u001b[0;32m/usr/local/lib/python3.10/dist-packages/ipykernel/kernelbase.py\u001b[0m in \u001b[0;36mraw_input\u001b[0;34m(self, prompt)\u001b[0m\n\u001b[1;32m    849\u001b[0m                 \u001b[0;34m\"raw_input was called, but this frontend does not support input requests.\"\u001b[0m\u001b[0;34m\u001b[0m\u001b[0;34m\u001b[0m\u001b[0m\n\u001b[1;32m    850\u001b[0m             )\n\u001b[0;32m--> 851\u001b[0;31m         return self._input_request(str(prompt),\n\u001b[0m\u001b[1;32m    852\u001b[0m             \u001b[0mself\u001b[0m\u001b[0;34m.\u001b[0m\u001b[0m_parent_ident\u001b[0m\u001b[0;34m,\u001b[0m\u001b[0;34m\u001b[0m\u001b[0;34m\u001b[0m\u001b[0m\n\u001b[1;32m    853\u001b[0m             \u001b[0mself\u001b[0m\u001b[0;34m.\u001b[0m\u001b[0m_parent_header\u001b[0m\u001b[0;34m,\u001b[0m\u001b[0;34m\u001b[0m\u001b[0;34m\u001b[0m\u001b[0m\n",
            "\u001b[0;32m/usr/local/lib/python3.10/dist-packages/ipykernel/kernelbase.py\u001b[0m in \u001b[0;36m_input_request\u001b[0;34m(self, prompt, ident, parent, password)\u001b[0m\n\u001b[1;32m    893\u001b[0m             \u001b[0;32mexcept\u001b[0m \u001b[0mKeyboardInterrupt\u001b[0m\u001b[0;34m:\u001b[0m\u001b[0;34m\u001b[0m\u001b[0;34m\u001b[0m\u001b[0m\n\u001b[1;32m    894\u001b[0m                 \u001b[0;31m# re-raise KeyboardInterrupt, to truncate traceback\u001b[0m\u001b[0;34m\u001b[0m\u001b[0;34m\u001b[0m\u001b[0m\n\u001b[0;32m--> 895\u001b[0;31m                 \u001b[0;32mraise\u001b[0m \u001b[0mKeyboardInterrupt\u001b[0m\u001b[0;34m(\u001b[0m\u001b[0;34m\"Interrupted by user\"\u001b[0m\u001b[0;34m)\u001b[0m \u001b[0;32mfrom\u001b[0m \u001b[0;32mNone\u001b[0m\u001b[0;34m\u001b[0m\u001b[0;34m\u001b[0m\u001b[0m\n\u001b[0m\u001b[1;32m    896\u001b[0m             \u001b[0;32mexcept\u001b[0m \u001b[0mException\u001b[0m \u001b[0;32mas\u001b[0m \u001b[0me\u001b[0m\u001b[0;34m:\u001b[0m\u001b[0;34m\u001b[0m\u001b[0;34m\u001b[0m\u001b[0m\n\u001b[1;32m    897\u001b[0m                 \u001b[0mself\u001b[0m\u001b[0;34m.\u001b[0m\u001b[0mlog\u001b[0m\u001b[0;34m.\u001b[0m\u001b[0mwarning\u001b[0m\u001b[0;34m(\u001b[0m\u001b[0;34m\"Invalid Message:\"\u001b[0m\u001b[0;34m,\u001b[0m \u001b[0mexc_info\u001b[0m\u001b[0;34m=\u001b[0m\u001b[0;32mTrue\u001b[0m\u001b[0;34m)\u001b[0m\u001b[0;34m\u001b[0m\u001b[0;34m\u001b[0m\u001b[0m\n",
            "\u001b[0;31mKeyboardInterrupt\u001b[0m: Interrupted by user"
          ]
        }
      ]
    },
    {
      "cell_type": "markdown",
      "source": [
        "cajero"
      ],
      "metadata": {
        "id": "qwrc-XUYYLOQ"
      }
    },
    {
      "cell_type": "code",
      "source": [
        "continuar = \"s\"\n",
        "while continuar.lower() == \"s\":\n",
        "\n",
        "    # Definición de la base de datos de usuarios\n",
        "    usuarios = {\n",
        "        \"1234\": {\"nombre\": \"Juan Pérez\", \"saldo\": 1000},\n",
        "        \"5678\": {\"nombre\": \"Ana Gómez\", \"saldo\": 1500},\n",
        "        \"9101\": {\"nombre\": \"Carlos López\", \"saldo\": 2000}\n",
        "    }\n",
        "\n",
        "    def mostrar_menu():\n",
        "        print(\"\\n*** MENÚ DEL CAJERO AUTOMÁTICO ***\")\n",
        "        print(\"1. Consultar saldo\")\n",
        "        print(\"2. Retirar dinero\")\n",
        "        print(\"3. Depositar dinero\")\n",
        "        print(\"4. Salir\")\n",
        "\n",
        "    def consultar_saldo(usuario):\n",
        "        print(f\"Tu saldo actual es: ${usuarios[usuario]['saldo']}\")\n",
        "\n",
        "    def retirar_dinero(usuario):\n",
        "        monto = float(input(\"Ingrese el monto a retirar: $\"))\n",
        "        if monto <= usuarios[usuario]['saldo']:\n",
        "            usuarios[usuario]['saldo'] -= monto\n",
        "            print(f\"Retiraste ${monto}. Tu saldo actual es: ${usuarios[usuario]['saldo']}\")\n",
        "        else:\n",
        "            print(\"Saldo insuficiente\")\n",
        "\n",
        "    def depositar_dinero(usuario):\n",
        "        monto = float(input(\"Ingrese el monto a depositar: $\"))\n",
        "        usuarios[usuario]['saldo'] += monto\n",
        "        print(f\"Depositaste ${monto}. Tu saldo actual es: ${usuarios[usuario]['saldo']}\")\n",
        "\n",
        "    def iniciar_sesion():\n",
        "        intentos = 3\n",
        "        while intentos > 0:\n",
        "            pin = input(\"Ingrese su PIN: \")\n",
        "            if pin in usuarios:\n",
        "                return pin\n",
        "            else:\n",
        "                intentos -= 1\n",
        "                print(f\"PIN incorrecto. Te quedan {intentos} intentos.\")\n",
        "        print(\"Número máximo de intentos alcanzado. Inténtelo de nuevo más tarde.\")\n",
        "        return None\n",
        "\n",
        "    def cajero_automatico():\n",
        "        usuario = iniciar_sesion()\n",
        "        if usuario:\n",
        "            while True:\n",
        "                mostrar_menu()\n",
        "                opcion = input(\"Seleccione una opción: \")\n",
        "                if opcion == \"1\":\n",
        "                    consultar_saldo(usuario)\n",
        "                elif opcion == \"2\":\n",
        "                    retirar_dinero(usuario)\n",
        "                elif opcion == \"3\":\n",
        "                    depositar_dinero(usuario)\n",
        "                elif opcion == \"4\":\n",
        "                    print(\"Gracias por usar el cajero automático. ¡Hasta luego!\")\n",
        "                    break\n",
        "                else:\n",
        "                    print(\"Opción no válida. Por favor, seleccione una opción del menú.\")\n",
        "\n",
        "    # Ejecutar el cajero automático\n",
        "    cajero_automatico()\n",
        "\n",
        "    # Preguntar al usuario si desea continuar\n",
        "    continuar = input(\"¿Desea realizar otra operación? (s/n): \").strip().lower()\n",
        "\n",
        "print(\"Fin del programa.\")"
      ],
      "metadata": {
        "id": "vg0pPxs5XhS1"
      },
      "execution_count": null,
      "outputs": []
    },
    {
      "cell_type": "markdown",
      "source": [
        "ejecicio 1\n"
      ],
      "metadata": {
        "id": "hm5OX37HXtif"
      }
    },
    {
      "cell_type": "code",
      "source": [
        "def calcular_impuesto(monto):\n",
        "    # Definir los rangos y valores asociados\n",
        "    rangos = [\n",
        "        (0.01, 500, 1.5, 0),\n",
        "        (500.01, 1000, 1.5, 3),\n",
        "        (1000.01, 2000, 3, 3),\n",
        "        (2000.01, 3000, 6, 3),\n",
        "        (3000.01, 6000, 9, 2),\n",
        "        (8000.01, 18000, 15, 2),\n",
        "        (18000.01, 30000, 39, 2),\n",
        "        (30000.01, 60000, 63, 1),\n",
        "        (60000.01, 100000, 93, 0.8),\n",
        "        (100000.01, 200000, 125, 0.7),\n",
        "        (200000.01, 300000, 195, 0.6),\n",
        "        (300000.01, 400000, 255, 0.45),\n",
        "        (400000.01, 500000, 300, 0.4),\n",
        "        (500000.01, 1000000, 340, 0.30),\n",
        "        (1000000.01, 99999999, 490, 0.18)\n",
        "    ]\n",
        "\n",
        "    # Iterar sobre los rangos para encontrar el correspondiente al monto\n",
        "    for rango in rangos:\n",
        "        desde, hasta, precio, adicional = rango\n",
        "        if desde <= monto <= hasta:\n",
        "            # Calcular el impuesto correspondiente\n",
        "            monto_base = monto - desde\n",
        "            impuesto = (monto_base / 1000) * adicional + precio\n",
        "            return round(impuesto, 2)\n",
        "\n",
        "    # Si no se encuentra el rango (fuera del límite superior)\n",
        "    return 0\n",
        "\n",
        "# Función para limpiar la entrada del usuario\n",
        "def limpiar_entrada(entrada):\n",
        "    # Eliminar comas, el símbolo de dólar, y espacios en blanco\n",
        "    entrada = entrada.replace(',', '').replace('$', '').strip()\n",
        "    return entrada\n",
        "\n",
        "# Pedir al usuario que ingrese el monto de la actividad económica\n",
        "try:\n",
        "    entrada = input(\"Ingrese el monto de la actividad económica: \")\n",
        "    monto = float(limpiar_entrada(entrada))  # Convertir a float después de limpiar\n",
        "    impuesto = calcular_impuesto(monto)\n",
        "    print(f\"El impuesto a pagar es: ${impuesto:.2f}\")\n",
        "except ValueError:\n",
        "    print(\"Por favor, ingrese un valor numérico válido.\")"
      ],
      "metadata": {
        "id": "2sSmrINkXyhj",
        "outputId": "f56c9a68-e285-4b99-aca2-380a337ffbff",
        "colab": {
          "base_uri": "https://localhost:8080/"
        }
      },
      "execution_count": 20,
      "outputs": [
        {
          "output_type": "stream",
          "name": "stdout",
          "text": [
            "Ingrese el monto de la actividad económica: 20000\n",
            "El impuesto a pagar es: $43.00\n"
          ]
        }
      ]
    }
  ]
}